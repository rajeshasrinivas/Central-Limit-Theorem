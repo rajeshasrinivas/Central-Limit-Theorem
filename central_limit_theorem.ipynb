{
 "cells": [
  {
   "cell_type": "markdown",
   "metadata": {},
   "source": [
    "#                                         Central Limit Theorem"
   ]
  },
  {
   "cell_type": "raw",
   "metadata": {},
   "source": [
    "For population with mean μ and standard deviation σ for sufficiently large random samples with replacement from the population, the sample mean distribution will approximately follow normal distribution. \n",
    "\n",
    "For Central limit theorem to hold the sample size greater than 30 is generally considered as suficient.\n",
    "\n",
    "Population mean and standard deviation is equal to the average of the sample means and standard deviation\n",
    "\n",
    "Population characteristics can be predicted with considerable large sample size. "
   ]
  },
  {
   "cell_type": "raw",
   "metadata": {},
   "source": [
    "Consider a six sided dice is thrown for 20 times(sample size) and the average of the sample mean is calculated.sampling is done for 1000 times and the histogram is ploted which roughly looks like normal distribution. "
   ]
  },
  {
   "cell_type": "code",
   "execution_count": 1,
   "metadata": {},
   "outputs": [
    {
     "data": {
      "image/png": "[encoded data removed]",
      "text/plain": [
       "<Figure size 432x288 with 1 Axes>"
      ]
     },
     "metadata": {
      "needs_background": "light"
     },
     "output_type": "display_data"
    }
   ],
   "source": [
    "%matplotlib inline\n",
    "import numpy as np\n",
    "import matplotlib.pyplot as plt\n",
    "sample_size = 20\n",
    "sample_num = 1000\n",
    "avg_lst = []\n",
    "for i in range(sample_num):\n",
    "    sum = 0\n",
    "    for j in range(sample_size):\n",
    "        sum += np.random.randint(1,6)\n",
    "    avg = sum / sample_size\n",
    "    avg_lst.append(avg)\n",
    "plt.hist(avg_lst);"
   ]
  }
 ],
 "metadata": {
  "kernelspec": {
   "display_name": "Python 3",
   "language": "python",
   "name": "python3"
  },
  "language_info": {
   "codemirror_mode": {
    "name": "ipython",
    "version": 3
   },
   "file_extension": ".py",
   "mimetype": "text/x-python",
   "name": "python",
   "nbconvert_exporter": "python",
   "pygments_lexer": "ipython3",
   "version": "3.6.4"
  }
 },
 "nbformat": 4,
 "nbformat_minor": 2
}
